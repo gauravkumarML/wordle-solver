{
 "cells": [
  {
   "cell_type": "code",
   "execution_count": null,
   "id": "35810bb8-757f-47ff-b6ca-dd5b1061f21e",
   "metadata": {},
   "outputs": [
    {
     "name": "stdout",
     "output_type": "stream",
     "text": [
      "Loaded 8913 candidate words.\n"
     ]
    },
    {
     "name": "stdin",
     "output_type": "stream",
     "text": [
      "Enter guess and feedback (e.g. crane gybgb), or 'quit':  tribe yybbb\n"
     ]
    },
    {
     "name": "stdout",
     "output_type": "stream",
     "text": [
      "110 candidates remaining.\n",
      "['actor', 'altar', 'amort', 'antra', 'aorta', 'apart', 'aport', 'attar', 'carat', 'carts', 'chart', 'court', 'curst', 'darts', 'dorty', 'durst', 'farts', 'forth', 'forts', 'forty']\n"
     ]
    },
    {
     "name": "stdin",
     "output_type": "stream",
     "text": [
      "Enter guess and feedback (e.g. crane gybgb), or 'quit':  curst bbyyg\n"
     ]
    },
    {
     "name": "stdout",
     "output_type": "stream",
     "text": [
      "7 candidates remaining.\n",
      "['short', 'skort', 'smart', 'snort', 'sport', 'start', 'swart']\n"
     ]
    },
    {
     "name": "stdin",
     "output_type": "stream",
     "text": [
      "Enter guess and feedback (e.g. crane gybgb), or 'quit':  snort gbggg\n"
     ]
    },
    {
     "name": "stdout",
     "output_type": "stream",
     "text": [
      "3 candidates remaining.\n",
      "['short', 'skort', 'sport']\n"
     ]
    },
    {
     "name": "stdin",
     "output_type": "stream",
     "text": [
      "Enter guess and feedback (e.g. crane gybgb), or 'quit':  sport ggggg\n"
     ]
    },
    {
     "name": "stdout",
     "output_type": "stream",
     "text": [
      "1 candidates remaining.\n",
      "['sport']\n"
     ]
    }
   ],
   "source": [
    "# Without Heuristic Method\n",
    "\n",
    "import sys\n",
    "import math\n",
    "from collections import Counter, defaultdict\n",
    "\n",
    "\n",
    "def load_words(file):\n",
    "    \"\"\"Load five-letter words from a file, one per line.\"\"\"\n",
    "    with open(\"five_letter_words.txt\") as f:\n",
    "        words = [w.strip().lower() for w in f if len(w.strip()) == 5]\n",
    "    return words\n",
    "\n",
    "\n",
    "def evaluate_guess(solution, guess):\n",
    "    \"\"\"\n",
    "    Compare guess to solution and return feedback string of length 5:\n",
    "    'g' for green, 'y' for yellow, 'b' for black/gray.\n",
    "    \"\"\"\n",
    "    feedback = [''] * 5\n",
    "    sol_chars = list(solution)\n",
    "    # First pass for greens\n",
    "    for i, (g_char, s_char) in enumerate(zip(guess, solution)):\n",
    "        if g_char == s_char:\n",
    "            feedback[i] = 'g'\n",
    "            sol_chars[i] = None  # remove matched char\n",
    "    # Second pass for yellows/blacks\n",
    "    for i, g_char in enumerate(guess):\n",
    "        if feedback[i]:\n",
    "            continue\n",
    "        if g_char in sol_chars:\n",
    "            feedback[i] = 'y'\n",
    "            sol_chars[sol_chars.index(g_char)] = None\n",
    "        else:\n",
    "            feedback[i] = 'b'\n",
    "    return ''.join(feedback)\n",
    "\n",
    "\n",
    "def filter_candidates(candidates, guess, feedback):\n",
    "    \"\"\"\n",
    "    Filter a list of candidate solutions based on the feedback for a guess.\n",
    "    \"\"\"\n",
    "    filtered = []\n",
    "    for word in candidates:\n",
    "        if evaluate_guess(word, guess) == feedback:\n",
    "            filtered.append(word)\n",
    "    return filtered\n",
    "\n",
    "\n",
    "def main():\n",
    "    if len(sys.argv) < 2:\n",
    "        print(\"Usage: python wordle_solver.py five_letter_words.txt\")\n",
    "        return\n",
    "    candidates = load_words(sys.argv[1])\n",
    "    print(f\"Loaded {len(candidates)} candidate words.\")\n",
    "\n",
    "    while True:\n",
    "        inp = input(\"Enter guess and feedback (e.g. crane gybgb), or 'quit': \")\n",
    "        if inp.strip().lower() == 'quit':\n",
    "            break\n",
    "        try:\n",
    "            guess, feedback = inp.split()\n",
    "            guess = guess.lower()\n",
    "            feedback = feedback.lower()\n",
    "            candidates = filter_candidates(candidates, guess, feedback)\n",
    "            print(f\"{len(candidates)} candidates remaining.\")\n",
    "            print(candidates[:20])  # show top 20\n",
    "        except Exception as e:\n",
    "            print(\"Invalid input. Format: <guess> <feedback>\")\n",
    "\n",
    "if __name__ == '__main__':\n",
    "    main()\n"
   ]
  },
  {
   "cell_type": "code",
   "execution_count": null,
   "id": "0c3dfe00-dd57-4bf3-8010-34cc5a645e94",
   "metadata": {},
   "outputs": [
    {
     "name": "stdout",
     "output_type": "stream",
     "text": [
      "Loaded 8913 candidates.\n"
     ]
    },
    {
     "name": "stdin",
     "output_type": "stream",
     "text": [
      "Enter guess+feedback (e.g. crane gybgb), 'plot', or 'quit':  water yybby\n"
     ]
    },
    {
     "name": "stdout",
     "output_type": "stream",
     "text": [
      "16 candidates remaining.\n",
      "['arrow', 'award', 'brawl', 'brawn', 'braws', 'crawl', 'craws', 'drawl', 'drawn', 'draws', 'dwarf', 'prawn', 'rowan', 'sward', 'swarf', 'swarm']\n",
      "Top recommendations (heuristic): ['drawn', 'draws', 'drawl', 'brawn', 'braws']\n"
     ]
    },
    {
     "name": "stdin",
     "output_type": "stream",
     "text": [
      "Enter guess+feedback (e.g. crane gybgb), 'plot', or 'quit':  plot\n"
     ]
    },
    {
     "data": {
      "image/png": "[encoded data removed]",
      "text/plain": [
       "<Figure size 1000x600 with 1 Axes>"
      ]
     },
     "metadata": {},
     "output_type": "display_data"
    }
   ],
   "source": [
    "#!/usr/bin/env python3\n",
    "\"\"\"\n",
    "A Wordle solver that:\n",
    "- Loads a list of five-letter words\n",
    "- Filters candidate answers based on Wordle feedback\n",
    "- Recommends next guesses based on a frequency-based heuristic model\n",
    "- Visualizes candidate scores with a bar chart mapping words to scores\n",
    "\"\"\"\n",
    "import sys\n",
    "from collections import Counter\n",
    "import matplotlib.pyplot as plt\n",
    "\n",
    "\n",
    "def load_words(filepath):\n",
    "    \"\"\"Load five-letter words from a file, one per line.\"\"\"\n",
    "    with open(\"five_letter_words.txt\") as f:\n",
    "        return [w.strip().lower() for w in f if len(w.strip()) == 5]\n",
    "\n",
    "\n",
    "def evaluate_guess(solution, guess):\n",
    "    \"\"\"Simulate Wordle feedback: 'g'=green, 'y'=yellow, 'b'=black.\"\"\"\n",
    "    feedback = [''] * 5\n",
    "    sol_chars = list(solution)\n",
    "    # Greens\n",
    "    for i, (g_char, s_char) in enumerate(zip(guess, solution)):\n",
    "        if g_char == s_char:\n",
    "            feedback[i] = 'g'\n",
    "            sol_chars[i] = None\n",
    "    # Yellows/Blacks\n",
    "    for i, g_char in enumerate(guess):\n",
    "        if feedback[i]:\n",
    "            continue\n",
    "        if g_char in sol_chars:\n",
    "            feedback[i] = 'y'\n",
    "            sol_chars[sol_chars.index(g_char)] = None\n",
    "        else:\n",
    "            feedback[i] = 'b'\n",
    "    return ''.join(feedback)\n",
    "\n",
    "\n",
    "def filter_candidates(candidates, guess, feedback):\n",
    "    \"\"\"Keep only words consistent with the latest feedback.\"\"\"\n",
    "    return [w for w in candidates if evaluate_guess(w, guess) == feedback]\n",
    "\n",
    "\n",
    "def compute_frequencies(candidates):\n",
    "    \"\"\"Compute positional and overall letter probabilities.\"\"\"\n",
    "    N = len(candidates)\n",
    "    pos_counters = [Counter() for _ in range(5)]\n",
    "    overall_counter = Counter()\n",
    "    for w in candidates:\n",
    "        for i, ch in enumerate(w):\n",
    "            pos_counters[i][ch] += 1\n",
    "            overall_counter[ch] += 1\n",
    "    pos_freq = [{ch: cnt / N for ch, cnt in pc.items()} for pc in pos_counters]\n",
    "    overall_freq = {ch: cnt / (5 * N) for ch, cnt in overall_counter.items()}\n",
    "    return pos_freq, overall_freq\n",
    "\n",
    "\n",
    "def score_word(word, pos_freq, overall_freq):\n",
    "    \"\"\"Compute heuristic score: positional match + unique-letter coverage.\"\"\"\n",
    "    score = sum(pos_freq[i].get(ch, 0) for i, ch in enumerate(word))\n",
    "    for ch in set(word):\n",
    "        score += overall_freq.get(ch, 0)\n",
    "    return score\n",
    "\n",
    "\n",
    "def recommend(candidates, top_n=5):\n",
    "    \"\"\"Return top_n candidate words by heuristic score.\"\"\"\n",
    "    pos_freq, overall_freq = compute_frequencies(candidates)\n",
    "    scored = [(w, score_word(w, pos_freq, overall_freq)) for w in candidates]\n",
    "    scored.sort(key=lambda x: x[1], reverse=True)\n",
    "    return scored[:top_n]\n",
    "\n",
    "\n",
    "def plot_word_scores(candidates):\n",
    "    \"\"\"Bar chart of heuristic scores per candidate word.\"\"\"\n",
    "    pos_freq, overall_freq = compute_frequencies(candidates)\n",
    "    scored = [(w, score_word(w, pos_freq, overall_freq)) for w in candidates]\n",
    "    # sort descending\n",
    "    words_sorted, scores_sorted = zip(*sorted(scored, key=lambda x: x[1], reverse=True))\n",
    "    plt.figure(figsize=(max(10, len(words_sorted)*0.4), 6))\n",
    "    plt.bar(range(len(words_sorted)), scores_sorted)\n",
    "    plt.xticks(range(len(words_sorted)), words_sorted, rotation=45, ha='right')\n",
    "    plt.title(\"Heuristic Score per Candidate Word\")\n",
    "    plt.xlabel(\"Word\")\n",
    "    plt.ylabel(\"Heuristic Score\")\n",
    "    plt.tight_layout()\n",
    "    plt.show()\n",
    "\n",
    "\n",
    "def main():\n",
    "    if len(sys.argv) < 2:\n",
    "        print(\"Usage: python wordle_solver.py five_letter_words.txt\")\n",
    "        return\n",
    "    candidates = load_words(sys.argv[1])\n",
    "    print(f\"Loaded {len(candidates)} candidates.\")\n",
    "\n",
    "    while True:\n",
    "        inp = input(\"Enter guess+feedback (e.g. crane gybgb), 'plot', or 'quit': \")\n",
    "        cmd = inp.strip().lower()\n",
    "        if cmd == 'quit':\n",
    "            break\n",
    "        if cmd == 'plot':\n",
    "            plot_word_scores(candidates)\n",
    "            continue\n",
    "        try:\n",
    "            guess, feedback = cmd.split()\n",
    "            candidates = filter_candidates(candidates, guess, feedback)\n",
    "            print(f\"{len(candidates)} candidates remaining.\")\n",
    "            print(candidates[:20])\n",
    "            recs = recommend(candidates, top_n=5)\n",
    "            print(\"Top recommendations (heuristic):\", [w for w, s in recs])\n",
    "        except ValueError:\n",
    "            print(\"Invalid input. Use '<guess> <feedback>', 'plot', or 'quit'.\")\n",
    "\n",
    "if __name__ == '__main__':\n",
    "    main()"
   ]
  },
  {
   "cell_type": "code",
   "execution_count": null,
   "id": "49b77586-a09c-4766-a8ed-9f42eee289ba",
   "metadata": {},
   "outputs": [],
   "source": []
  }
 ],
 "metadata": {
  "kernelspec": {
   "display_name": "Python 3 (ipykernel)",
   "language": "python",
   "name": "python3"
  },
  "language_info": {
   "codemirror_mode": {
    "name": "ipython",
    "version": 3
   },
   "file_extension": ".py",
   "mimetype": "text/x-python",
   "name": "python",
   "nbconvert_exporter": "python",
   "pygments_lexer": "ipython3",
   "version": "3.13.0"
  }
 },
 "nbformat": 4,
 "nbformat_minor": 5
}
